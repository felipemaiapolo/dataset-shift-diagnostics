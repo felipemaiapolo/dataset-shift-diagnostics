{
 "cells": [
  {
   "cell_type": "code",
   "execution_count": 1,
   "id": "67b7daba",
   "metadata": {},
   "outputs": [],
   "source": [
    "import numpy as np\n",
    "from tqdm import tqdm\n",
    "import matplotlib.pyplot as plt\n",
    "\n",
    "from utils import *\n",
    "from exp_utils import *\n",
    "from tests import *\n",
    "from cd_models import *\n",
    "\n",
    "####### Fixing Seed #######\n",
    "random_seed=42\n",
    "np.random.seed(random_seed)\n",
    "###########################"
   ]
  },
  {
   "cell_type": "code",
   "execution_count": 2,
   "id": "8cb9a803",
   "metadata": {},
   "outputs": [
    {
     "name": "stdout",
     "output_type": "stream",
     "text": [
      "[-0.23 -0.21 -0.19 -0.17 -0.15 -0.13 -0.11 -0.09 -0.07 -0.05 -0.03 -0.01\n",
      "  0.01  0.03  0.05  0.07  0.09  0.11  0.13  0.15  0.17  0.19  0.21  0.23] 24\n"
     ]
    }
   ],
   "source": [
    "values = np.arange(-.24,.24,.02) +.01\n",
    "print(values, len(values))"
   ]
  },
  {
   "cell_type": "code",
   "execution_count": 3,
   "id": "b889b52c",
   "metadata": {},
   "outputs": [],
   "source": [
    "n = 5000\n",
    "B=100\n",
    "n_p=100 #number of simulations used to estimate power\n",
    "alpha=.05\n",
    "task='reg'\n",
    "test=.5"
   ]
  },
  {
   "cell_type": "code",
   "execution_count": 4,
   "id": "a738282b",
   "metadata": {},
   "outputs": [
    {
     "name": "stderr",
     "output_type": "stream",
     "text": [
      "100%|██████████████████████████████████████| 100/100 [6:28:20<00:00, 233.00s/it]\n"
     ]
    }
   ],
   "source": [
    "pvals=[]\n",
    "\n",
    "for k in tqdm(range(n_p)):\n",
    "    for theta in values:\n",
    "        for lamb in values:\n",
    "\n",
    "            ### Setting-up data\n",
    "            Xs, ys, Xt, yt = GenData(theta, lamb, n)\n",
    "            Xs_train, Xs_test, ys_train, ys_test, Zs_train, Zs_test, \\\n",
    "            Xt_train, Xt_test, yt_train, yt_test, Zt_train, Zt_test = prep_data(Xs, ys, Xt, yt, test=test, task=task, random_state=random_seed)\n",
    "\n",
    "            ###\n",
    "            totshift_model = KL(boost=False, cv=None)\n",
    "            totshift_model.fit(Zs_train, Zt_train)\n",
    "            covshift_model = KL(boost=False, cv=None)\n",
    "            covshift_model.fit(Xs_train, Xt_train)\n",
    "\n",
    "            ###\n",
    "            cd_model = cde_reg(boost=False, cv=None)\n",
    "            cd_model.fit(pd.concat([Xs_train, Xt_train], axis=0), \n",
    "                         pd.concat([ys_train, yt_train], axis=0))\n",
    "            \n",
    "            ###\n",
    "            tot=Permut(Zs_test, Zt_test, totshift_model, B=B, verbose=False)\n",
    "            cov=Permut(Xs_test, Xt_test, covshift_model, B=B, verbose=False)\n",
    "            conc2=CondRand(Xs_test, ys_test, Xt_test, yt_test, \n",
    "                           cd_model, totshift_model, covshift_model, B=B, verbose=False)\n",
    "\n",
    "            ###\n",
    "            pvals.append([theta,lamb,tot['pval'],conc2['pval'],cov['pval']])"
   ]
  },
  {
   "cell_type": "code",
   "execution_count": 5,
   "id": "fea2d985",
   "metadata": {},
   "outputs": [
    {
     "data": {
      "text/plain": [
       "(57600, 5)"
      ]
     },
     "execution_count": 5,
     "metadata": {},
     "output_type": "execute_result"
    }
   ],
   "source": [
    "pvals=np.array(pvals)\n",
    "\n",
    "pvals.shape"
   ]
  },
  {
   "cell_type": "code",
   "execution_count": 6,
   "id": "962dc9b2",
   "metadata": {},
   "outputs": [],
   "source": [
    "M=np.zeros((3,len(values),len(values)))\n",
    "i=0\n",
    "\n",
    "for theta in values:\n",
    "    j=0\n",
    "    for lamb in values:\n",
    "        ind=np.min(pvals[:,:2]==[theta,lamb], axis=1)\n",
    "        M[:,len(values)-i-1,j]=np.mean(pvals[ind,2:]<alpha, axis=0)\n",
    "        j+=1\n",
    "    i+=1\n",
    "    \n",
    "np.save('outputs/cov_conc.npy', M)"
   ]
  },
  {
   "cell_type": "code",
   "execution_count": null,
   "id": "7fbdbd52",
   "metadata": {},
   "outputs": [],
   "source": []
  }
 ],
 "metadata": {
  "kernelspec": {
   "display_name": "Python 3 (ipykernel)",
   "language": "python",
   "name": "python3"
  },
  "language_info": {
   "codemirror_mode": {
    "name": "ipython",
    "version": 3
   },
   "file_extension": ".py",
   "mimetype": "text/x-python",
   "name": "python",
   "nbconvert_exporter": "python",
   "pygments_lexer": "ipython3",
   "version": "3.8.16"
  }
 },
 "nbformat": 4,
 "nbformat_minor": 5
}
