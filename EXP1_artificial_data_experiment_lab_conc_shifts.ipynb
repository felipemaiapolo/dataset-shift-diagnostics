{
 "cells": [
  {
   "cell_type": "code",
   "execution_count": 1,
   "id": "67b7daba",
   "metadata": {},
   "outputs": [],
   "source": [
    "import numpy as np\n",
    "from tqdm import tqdm\n",
    "import matplotlib.pyplot as plt\n",
    "\n",
    "from utils import *\n",
    "from exp_utils import *\n",
    "from tests import *\n",
    "from cd_models import *\n",
    "\n",
    "####### Fixing Seed #######\n",
    "random_seed=42\n",
    "np.random.seed(random_seed)\n",
    "###########################"
   ]
  },
  {
   "cell_type": "code",
   "execution_count": 2,
   "id": "498e483f",
   "metadata": {},
   "outputs": [
    {
     "name": "stdout",
     "output_type": "stream",
     "text": [
      "[-0.115 -0.105 -0.095 -0.085 -0.075 -0.065 -0.055 -0.045 -0.035 -0.025\n",
      " -0.015 -0.005  0.005  0.015  0.025  0.035  0.045  0.055  0.065  0.075\n",
      "  0.085  0.095  0.105  0.115]\n"
     ]
    }
   ],
   "source": [
    "values = np.round(np.arange(-.12,.12,.01)+.005,3)\n",
    "print(values)"
   ]
  },
  {
   "cell_type": "code",
   "execution_count": 3,
   "id": "7cd1678a",
   "metadata": {},
   "outputs": [],
   "source": [
    "d=3\n",
    "n = 5000\n",
    "B=100\n",
    "n_p=100 #number of simulations used to estimate power\n",
    "alpha=.05\n",
    "task='class'\n",
    "test=.5"
   ]
  },
  {
   "cell_type": "code",
   "execution_count": 4,
   "id": "a738282b",
   "metadata": {},
   "outputs": [
    {
     "name": "stderr",
     "output_type": "stream",
     "text": [
      "100%|██████████████████████████████████████| 100/100 [9:27:52<00:00, 340.72s/it]\n"
     ]
    }
   ],
   "source": [
    "pvals=[]\n",
    "\n",
    "for k in tqdm(range(n_p)):\n",
    "    for gamma in values:\n",
    "        for delta in values:\n",
    "\n",
    "            ### Setting-up data\n",
    "            Xs, ys, Xt, yt = GenData2(gamma, delta, d=d, n=n)\n",
    "            Xs_train, Xs_test, ys_train, ys_test, Zs_train, Zs_test, \\\n",
    "            Xt_train, Xt_test, yt_train, yt_test, Zt_train, Zt_test = prep_data(Xs, ys, Xt, yt, test=test, task=task, random_state=random_seed)            \n",
    "            \n",
    "            ###\n",
    "            totshift_model = KL(boost=False, cv=None)\n",
    "            totshift_model.fit(Zs_train, Zt_train)\n",
    "            \n",
    "            ###            \n",
    "            tot=Permut(Zs_test, Zt_test, totshift_model, B=B, verbose=False)\n",
    "            lab=PermutDiscrete(ys_test, yt_test, B=B, verbose=False)\n",
    "            conc1=LocalPermut(Xs_test, ys_test, Xt_test, yt_test, \n",
    "                              totshift_model, labshift_model=None, task=task, B=B, verbose=False)\n",
    "\n",
    "            ###\n",
    "            pvals.append([gamma,delta,tot['pval'],conc1['pval'],lab['pval']])"
   ]
  },
  {
   "cell_type": "code",
   "execution_count": 5,
   "id": "fea2d985",
   "metadata": {},
   "outputs": [
    {
     "data": {
      "text/plain": [
       "(57600, 5)"
      ]
     },
     "execution_count": 5,
     "metadata": {},
     "output_type": "execute_result"
    }
   ],
   "source": [
    "pvals=np.array(pvals)\n",
    "\n",
    "pvals.shape"
   ]
  },
  {
   "cell_type": "code",
   "execution_count": 6,
   "id": "962dc9b2",
   "metadata": {},
   "outputs": [],
   "source": [
    "M=np.zeros((3,len(values),len(values)))\n",
    "i=0\n",
    "\n",
    "for gamma in values:\n",
    "    j=0\n",
    "    for delta in values:\n",
    "        ind=np.min(pvals[:,:2]==[gamma,delta], axis=1)\n",
    "        M[:,len(values)-i-1,j]=np.mean(pvals[ind,2:]<alpha, axis=0)\n",
    "        j+=1\n",
    "    i+=1\n",
    "\n",
    "np.save('outputs/prior_conc.npy', M)"
   ]
  }
 ],
 "metadata": {
  "kernelspec": {
   "display_name": "Python 3 (ipykernel)",
   "language": "python",
   "name": "python3"
  },
  "language_info": {
   "codemirror_mode": {
    "name": "ipython",
    "version": 3
   },
   "file_extension": ".py",
   "mimetype": "text/x-python",
   "name": "python",
   "nbconvert_exporter": "python",
   "pygments_lexer": "ipython3",
   "version": "3.8.16"
  }
 },
 "nbformat": 4,
 "nbformat_minor": 5
}
