{
 "cells": [
  {
   "cell_type": "code",
   "execution_count": 1,
   "metadata": {
    "id": "SIuaeXlzjz6w"
   },
   "outputs": [],
   "source": [
    "import numpy as np\n",
    "import pandas as pd\n",
    "from tqdm import tqdm\n",
    "import matplotlib.pyplot as plt\n",
    "import multiprocessing as mp\n",
    "from exp_utils import *\n",
    "\n",
    "####### Fixing Seed #######\n",
    "random_seed=42\n",
    "np.random.seed(random_seed)\n",
    "###########################"
   ]
  },
  {
   "cell_type": "code",
   "execution_count": 2,
   "metadata": {},
   "outputs": [],
   "source": [
    "task='class'\n",
    "ds=[.5,.45,.4,.35,.3]\n",
    "test=.1\n",
    "B=250\n",
    "reps = 5\n",
    "\n",
    "left  = 0.125  # the left side of the subplots of the figure\n",
    "right = 0.9    # the right side of the subplots of the figure\n",
    "bottom = 0.1   # the bottom of the subplots of the figure\n",
    "top = 0.9      # the top of the subplots of the figure\n",
    "wspace = 0.25   # the amount of width reserved for blank space between subplots\n",
    "hspace = 0.35   # the amount of height reserved for white space between subplots"
   ]
  },
  {
   "cell_type": "markdown",
   "metadata": {},
   "source": [
    "# Amazon"
   ]
  },
  {
   "cell_type": "code",
   "execution_count": 3,
   "metadata": {
    "id": "cQ2Er52hZlzS"
   },
   "outputs": [
    {
     "data": {
      "text/plain": [
       "((30000, 768), (30000, 1))"
      ]
     },
     "execution_count": 3,
     "metadata": {},
     "output_type": "execute_result"
    }
   ],
   "source": [
    "X=np.load('data/X_amazon.npy')\n",
    "y=np.load('data/y_amazon.npy').reshape((-1,1))-1\n",
    "X.shape, y.shape"
   ]
  },
  {
   "cell_type": "code",
   "execution_count": 4,
   "metadata": {
    "id": "rev8LNDipetP"
   },
   "outputs": [
    {
     "name": "stderr",
     "output_type": "stream",
     "text": [
      "100%|█████████████████████████████████████████████| 5/5 [00:00<00:00,  8.03it/s]\n",
      "100%|████████████████████████████████████████████| 5/5 [10:13<00:00, 122.71s/it]\n",
      "100%|████████████████████████████████████████████| 5/5 [17:26<00:00, 209.40s/it]\n"
     ]
    }
   ],
   "source": [
    "Xs_dic, ys_dic, Xt_dic, yt_dic = get_shifted_data(X, y, ds)\n",
    "kls_amazon_ours, pvals_amazon_ours = perform_ours(Xs_dic, ys_dic, Xt_dic, yt_dic, ds, reps, task, B, test)\n",
    "pvals_amazon_bench = perform_bench(Xs_dic, ys_dic, Xt_dic, yt_dic, ds, reps, task, B, test)"
   ]
  },
  {
   "cell_type": "markdown",
   "metadata": {},
   "source": [
    "PS: The benchmark methods for conditional shifts take more time to run because they require fitting an extra classifier and predicting results for the whole test set."
   ]
  },
  {
   "cell_type": "markdown",
   "metadata": {},
   "source": [
    "# CIFAR10"
   ]
  },
  {
   "cell_type": "code",
   "execution_count": 5,
   "metadata": {},
   "outputs": [
    {
     "data": {
      "text/plain": [
       "((30000, 512), (30000, 1))"
      ]
     },
     "execution_count": 5,
     "metadata": {},
     "output_type": "execute_result"
    }
   ],
   "source": [
    "X=np.load('data/X_cifar10.npy')\n",
    "X=(X-X.mean(axis=0))/X.std(axis=0) #otherwise things will get pretty slow\n",
    "y=np.load('data/y_cifar10.npy').reshape((-1,1))\n",
    "X.shape, y.shape"
   ]
  },
  {
   "cell_type": "code",
   "execution_count": 6,
   "metadata": {},
   "outputs": [
    {
     "name": "stderr",
     "output_type": "stream",
     "text": [
      "100%|█████████████████████████████████████████████| 5/5 [00:00<00:00,  7.83it/s]\n",
      "100%|██████████████████████████████████████████| 5/5 [1:04:18<00:00, 771.65s/it]\n",
      "100%|██████████████████████████████████████████| 5/5 [1:04:31<00:00, 774.30s/it]\n"
     ]
    }
   ],
   "source": [
    "Xs_dic, ys_dic, Xt_dic, yt_dic = get_shifted_data(X, y, ds)\n",
    "kls_cifar_ours, pvals_cifar_ours = perform_ours(Xs_dic, ys_dic, Xt_dic, yt_dic, ds, reps, task, B, test)\n",
    "pvals_cifar_bench = perform_bench(Xs_dic, ys_dic, Xt_dic, yt_dic, ds, reps, task, B, test)"
   ]
  },
  {
   "cell_type": "markdown",
   "metadata": {},
   "source": [
    "# ImageNet"
   ]
  },
  {
   "cell_type": "code",
   "execution_count": 7,
   "metadata": {},
   "outputs": [
    {
     "data": {
      "text/plain": [
       "((30000, 512), (30000, 1))"
      ]
     },
     "execution_count": 7,
     "metadata": {},
     "output_type": "execute_result"
    }
   ],
   "source": [
    "X=np.load('data/X_imagenet.npy')\n",
    "X=(X-X.mean(axis=0))/X.std(axis=0) #otherwise things will get pretty slow\n",
    "y=np.load('data/y_imagenet.npy').reshape((-1,1))\n",
    "X.shape, y.shape"
   ]
  },
  {
   "cell_type": "code",
   "execution_count": null,
   "metadata": {},
   "outputs": [
    {
     "name": "stderr",
     "output_type": "stream",
     "text": [
      "100%|█████████████████████████████████████████████| 5/5 [00:00<00:00,  9.69it/s]\n",
      "100%|████████████████████████████████████████████| 5/5 [28:45<00:00, 345.07s/it]\n",
      " 20%|████████▊                                   | 1/5 [07:47<31:08, 467.17s/it]"
     ]
    }
   ],
   "source": [
    "Xs_dic, ys_dic, Xt_dic, yt_dic = get_shifted_data(X, y, ds)\n",
    "kls_imagenet_ours, pvals_imagenet_ours = perform_ours(Xs_dic, ys_dic, Xt_dic, yt_dic, ds, reps, task, B, test)\n",
    "pvals_imagenet_bench = perform_bench(Xs_dic, ys_dic, Xt_dic, yt_dic, ds, reps, task, B, test)"
   ]
  },
  {
   "cell_type": "markdown",
   "metadata": {},
   "source": [
    "# Plots"
   ]
  },
  {
   "cell_type": "code",
   "execution_count": null,
   "metadata": {},
   "outputs": [],
   "source": [
    "plt.figure(figsize=(10,3))\n",
    "plt.subplots_adjust(left, bottom, right, top, wspace, hspace)\n",
    "\n",
    "##Ours\n",
    "plt.subplot(2, 3, 1)\n",
    "exp_plots2([str(d) for d in ds], pvals_amazon_ours, xlab=\"\", ylab=\"p-values\", grid='both', legend=False)\n",
    "plt.ylim(0,1)\n",
    "plt.text(-0.4, .7, \"Ours\", transform=plt.gca().transAxes, fontsize=12, va=\"top\", rotation=90)\n",
    "\n",
    "plt.subplot(2, 3, 2)\n",
    "exp_plots2([str(d) for d in ds], pvals_imagenet_ours, xlab=\"\", ylab=\"\", grid='both', legend=False)\n",
    "plt.ylim(0,1)\n",
    "\n",
    "plt.subplot(2, 3, 3)\n",
    "exp_plots2([str(d) for d in ds], pvals_cifar_ours, xlab=\"\", ylab=\"\", grid='both', legend=False)\n",
    "plt.ylim(0,1)\n",
    "\n",
    "##Bench\n",
    "plt.subplot(2, 3, 4)\n",
    "exp_plots2([str(d) for d in ds], pvals_amazon_bench, xlab=\"$\\delta$\", ylab=\"p-values\", grid='both', legend=False)\n",
    "plt.ylim(0,1)\n",
    "plt.text(-0.4, 1.02, \"Benchmark\", transform=plt.gca().transAxes, fontsize=12, va=\"top\", rotation=90)\n",
    "\n",
    "plt.subplot(2, 3, 5)\n",
    "exp_plots2([str(d) for d in ds], pvals_imagenet_bench, xlab=\"$\\delta$\", ylab=\"\", grid='both', legend=True)\n",
    "plt.ylim(0,1)\n",
    "\n",
    "plt.subplot(2, 3, 6)\n",
    "exp_plots2([str(d) for d in ds], pvals_cifar_bench, xlab=\"$\\delta$\", ylab=\"\", grid='both', legend=False)\n",
    "plt.ylim(0,1)\n",
    "\n",
    "plt.text(0.2345, .95, \"Amazon Reviews\", transform=plt.gcf().transFigure, fontsize=12, ha=\"center\")\n",
    "\n",
    "plt.text(0.515, .95, \"Tiny ImageNet\", transform=plt.gcf().transFigure, fontsize=12, ha=\"center\")\n",
    "\n",
    "plt.text(0.7855, .95, \"CIFAR-10\", transform=plt.gcf().transFigure, fontsize=12, ha=\"center\")\n",
    "\n",
    "plt.savefig('plots/deep_pvals.png', bbox_inches='tight', dpi=300, transparent=True)"
   ]
  },
  {
   "cell_type": "code",
   "execution_count": null,
   "metadata": {},
   "outputs": [],
   "source": [
    "plt.figure(figsize=(10,1.5))\n",
    "plt.subplots_adjust(left, bottom, right, top, wspace, hspace)\n",
    "\n",
    "##Ours\n",
    "plt.subplot(1, 3, 1)\n",
    "exp_plots3([str(d) for d in ds], kls_amazon_ours, xlab=\"\", ylab=\"$\\hat{KL}$\", grid='both', legend=False)\n",
    "plt.ylim(0,.2)\n",
    "\n",
    "plt.subplot(1, 3, 2)\n",
    "exp_plots3([str(d) for d in ds], kls_imagenet_ours, xlab=\"\", ylab=\"\", grid='both', legend=True)\n",
    "plt.ylim(0,.2)\n",
    "\n",
    "plt.subplot(1, 3, 3)\n",
    "exp_plots3([str(d) for d in ds], kls_cifar_ours, xlab=\"\", ylab=\"\", grid='both', legend=False)\n",
    "plt.ylim(0,.2)\n",
    "\n",
    "plt.text(0.2345, .95, \"Amazon Reviews\", transform=plt.gcf().transFigure, fontsize=12, ha=\"center\")\n",
    "\n",
    "plt.text(0.515, .95, \"Tiny ImageNet\", transform=plt.gcf().transFigure, fontsize=12, ha=\"center\")\n",
    "\n",
    "plt.text(0.7855, .95, \"CIFAR-10\", transform=plt.gcf().transFigure, fontsize=12, ha=\"center\")\n",
    "\n",
    "plt.savefig('plots/deep_kls.png', bbox_inches='tight', dpi=300, transparent=True)"
   ]
  },
  {
   "cell_type": "markdown",
   "metadata": {},
   "source": [
    "# Extra exps"
   ]
  },
  {
   "cell_type": "code",
   "execution_count": null,
   "metadata": {},
   "outputs": [],
   "source": [
    "X=np.load('data/X_stack.npy')\n",
    "y=np.load('data/y_stack.npy').reshape((-1,1))\n",
    "X.shape, y.shape"
   ]
  },
  {
   "cell_type": "code",
   "execution_count": null,
   "metadata": {},
   "outputs": [],
   "source": [
    "Xs_dic, ys_dic, Xt_dic, yt_dic = get_shifted_data(X, y, ds)\n",
    "kls_stack_ours, pvals_stack_ours = perform_ours(Xs_dic, ys_dic, Xt_dic, yt_dic, ds, reps, task, B, test)\n",
    "pvals_stack_bench = perform_bench(Xs_dic, ys_dic, Xt_dic, yt_dic, ds, reps, task, B, test)"
   ]
  },
  {
   "cell_type": "code",
   "execution_count": null,
   "metadata": {},
   "outputs": [],
   "source": [
    "plt.figure(figsize=(5,4))\n",
    "plt.subplots_adjust(left, bottom, right, top, wspace, hspace)\n",
    "plt.subplot(2, 1, 1)\n",
    "exp_plots4([str(d) for d in ds], kls_stack_ours, xlab=\"$\\delta$\", ylab=\"$\\hat{KL}$\", grid='both')\n",
    "plt.subplot(2, 1, 2)\n",
    "exp_plots4([str(d) for d in ds], pvals_stack_ours, xlab=\"$\\delta$\", ylab=\"p-values\", grid='both')\n",
    "plt.ylim(0,1.2)\n",
    "#plt.savefig('plots/stack.png', bbox_inches='tight', dpi=300, transparent=True)"
   ]
  },
  {
   "cell_type": "code",
   "execution_count": null,
   "metadata": {},
   "outputs": [],
   "source": [
    "plt.figure(figsize=(5,1.75))\n",
    "exp_plots4([str(d) for d in ds], pvals_stack_bench, xlab=\"$\\delta$\", ylab=\"p-values\", grid='both')\n",
    "plt.ylim(0,1.2)\n",
    "#plt.savefig('plots/stack2.png', bbox_inches='tight', dpi=300, transparent=True)"
   ]
  },
  {
   "cell_type": "code",
   "execution_count": null,
   "metadata": {},
   "outputs": [],
   "source": []
  }
 ],
 "metadata": {
  "accelerator": "GPU",
  "colab": {
   "collapsed_sections": [],
   "name": "cifar_experiment.ipynb",
   "provenance": []
  },
  "kernelspec": {
   "display_name": "Python 3 (ipykernel)",
   "language": "python",
   "name": "python3"
  },
  "language_info": {
   "codemirror_mode": {
    "name": "ipython",
    "version": 3
   },
   "file_extension": ".py",
   "mimetype": "text/x-python",
   "name": "python",
   "nbconvert_exporter": "python",
   "pygments_lexer": "ipython3",
   "version": "3.8.15"
  }
 },
 "nbformat": 4,
 "nbformat_minor": 1
}
